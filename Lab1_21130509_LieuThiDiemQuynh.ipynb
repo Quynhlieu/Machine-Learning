{
  "nbformat": 4,
  "nbformat_minor": 0,
  "metadata": {
    "colab": {
      "provenance": [],
      "authorship_tag": "ABX9TyM9s7mfzJYn3JModgbD25To",
      "include_colab_link": true
    },
    "kernelspec": {
      "name": "python3",
      "display_name": "Python 3"
    },
    "language_info": {
      "name": "python"
    }
  },
  "cells": [
    {
      "cell_type": "markdown",
      "metadata": {
        "id": "view-in-github",
        "colab_type": "text"
      },
      "source": [
        "<a href=\"https://colab.research.google.com/github/Quynhlieu/Machine-Learning/blob/main/Lab1_21130509_LieuThiDiemQuynh.ipynb\" target=\"_parent\"><img src=\"https://colab.research.google.com/assets/colab-badge.svg\" alt=\"Open In Colab\"/></a>"
      ]
    },
    {
      "cell_type": "code",
      "execution_count": 3,
      "metadata": {
        "id": "vKRN_Ax3hHp9"
      },
      "outputs": [],
      "source": [
        "from typing import List\n",
        "\n",
        "class Post:\n",
        "  def __init__(self, content, subject, likes):\n",
        "    self.__content = content\n",
        "    self.__subject = subject\n",
        "    self.__likes = likes\n",
        "class Account:\n",
        "  def __init__(self, name, email, country):\n",
        "    self.__name = name\n",
        "    self.__email = email\n",
        "    self.__country = country\n",
        "    self.__friends = List()\n",
        "    self.__posts = List()\n",
        "\n",
        "  def add_post(self, post):\n",
        "    self.__posts.append(post)\n",
        "\n",
        "  def add_friend(self, friend):\n",
        "    self.__friends.append(friend)\n",
        "\n",
        "  #def getMaxLikePostByFriend(self):\n",
        "\n",
        "\n",
        "class AccountManager:\n",
        "  def __init__(self):\n",
        "    self.__accounts = List()\n",
        "  def add_account(self, account):\n",
        "    self.__accounts.append(account)\n",
        "\n",
        "\n",
        "\n",
        "\n"
      ]
    },
    {
      "cell_type": "code",
      "source": [
        "def task1(self):\n"
      ],
      "metadata": {
        "id": "gq7Xiw_a1O1g"
      },
      "execution_count": null,
      "outputs": []
    }
  ]
}